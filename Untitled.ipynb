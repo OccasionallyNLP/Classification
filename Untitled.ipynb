{
 "cells": [
  {
   "cell_type": "code",
   "execution_count": 1,
   "id": "6291b58c-33d7-4618-87d7-6acca2f5a627",
   "metadata": {},
   "outputs": [],
   "source": [
    "import torch"
   ]
  },
  {
   "cell_type": "code",
   "execution_count": 3,
   "id": "0652fa8f-5828-4feb-9c8f-8e06bd3e1b46",
   "metadata": {},
   "outputs": [],
   "source": [
    "import numpy as np"
   ]
  },
  {
   "cell_type": "code",
   "execution_count": 4,
   "id": "b792961f-2678-4d4b-953a-d1d3a08fa65a",
   "metadata": {},
   "outputs": [],
   "source": [
    "effective_num = 1.0 - np.power(0.999, [10,20,100])\n"
   ]
  },
  {
   "cell_type": "code",
   "execution_count": 26,
   "id": "79332b01-3861-4cad-a5f3-176fb8a4f606",
   "metadata": {},
   "outputs": [],
   "source": [
    "import torch.nn as nn"
   ]
  },
  {
   "cell_type": "code",
   "execution_count": 28,
   "id": "89cae71d-fc71-4a22-857d-1d0b04422067",
   "metadata": {},
   "outputs": [],
   "source": [
    "a= nn.ModuleList([nn.Linear(20, 1) for i in range(3)])"
   ]
  },
  {
   "cell_type": "code",
   "execution_count": 29,
   "id": "145a0633-afc1-4e78-86e9-78b94f026da2",
   "metadata": {},
   "outputs": [
    {
     "data": {
      "text/plain": [
       "ModuleList(\n",
       "  (0): Linear(in_features=20, out_features=1, bias=True)\n",
       "  (1): Linear(in_features=20, out_features=1, bias=True)\n",
       "  (2): Linear(in_features=20, out_features=1, bias=True)\n",
       ")"
      ]
     },
     "execution_count": 29,
     "metadata": {},
     "output_type": "execute_result"
    }
   ],
   "source": [
    "a"
   ]
  },
  {
   "cell_type": "code",
   "execution_count": 30,
   "id": "5bbc3353-4677-4eaa-bba8-685914beb5ea",
   "metadata": {},
   "outputs": [
    {
     "data": {
      "text/plain": [
       "Linear(in_features=20, out_features=1, bias=True)"
      ]
     },
     "execution_count": 30,
     "metadata": {},
     "output_type": "execute_result"
    }
   ],
   "source": [
    "a[0]"
   ]
  },
  {
   "cell_type": "code",
   "execution_count": null,
   "id": "c478993d-2a86-4cb0-af62-5cc32d2992be",
   "metadata": {},
   "outputs": [],
   "source": [
    "np.power()"
   ]
  },
  {
   "cell_type": "code",
   "execution_count": 6,
   "id": "21184078-d6ba-466a-9d34-8c9046e26df0",
   "metadata": {},
   "outputs": [],
   "source": [
    "weights = (1.0 - 0.999) / np.array(effective_num)"
   ]
  },
  {
   "cell_type": "code",
   "execution_count": 8,
   "id": "59dd5768-0674-4768-b7ad-18f9e0e529d5",
   "metadata": {},
   "outputs": [],
   "source": [
    "weights = weights / np.sum(weights) * 3"
   ]
  },
  {
   "cell_type": "code",
   "execution_count": 13,
   "id": "9cde99f6-e9f0-4e69-bc54-4628bb0f8581",
   "metadata": {},
   "outputs": [],
   "source": [
    "t1 = torch.tensor(1)\n",
    "t2 = torch.tensor(2)"
   ]
  },
  {
   "cell_type": "code",
   "execution_count": 24,
   "id": "062ccd86-2cdf-45c4-acbc-51fc22a105a2",
   "metadata": {},
   "outputs": [],
   "source": [
    "weights = {1:None, 2:torch.tensor([1,2,3])}"
   ]
  },
  {
   "cell_type": "code",
   "execution_count": 25,
   "id": "40be66c6-6ab1-4c1a-8695-2f5d6dfceab7",
   "metadata": {},
   "outputs": [
    {
     "data": {
      "text/plain": [
       "{1: None, 2: [1, 2, 3]}"
      ]
     },
     "execution_count": 25,
     "metadata": {},
     "output_type": "execute_result"
    }
   ],
   "source": [
    "{i:j.tolist() if j is not None else j for i,j in weights.items()}"
   ]
  },
  {
   "cell_type": "code",
   "execution_count": 21,
   "id": "da1b60a8-3d08-4b89-b49f-e4b867168824",
   "metadata": {},
   "outputs": [
    {
     "ename": "RuntimeError",
     "evalue": "Could not infer dtype of NoneType",
     "output_type": "error",
     "traceback": [
      "\u001b[1;31m---------------------------------------------------------------------------\u001b[0m",
      "\u001b[1;31mRuntimeError\u001b[0m                              Traceback (most recent call last)",
      "\u001b[1;32m~\\AppData\\Local\\Temp/ipykernel_42560/1218765265.py\u001b[0m in \u001b[0;36m<module>\u001b[1;34m\u001b[0m\n\u001b[1;32m----> 1\u001b[1;33m \u001b[0mtorch\u001b[0m\u001b[1;33m.\u001b[0m\u001b[0mtensor\u001b[0m\u001b[1;33m(\u001b[0m\u001b[1;32mNone\u001b[0m\u001b[1;33m)\u001b[0m\u001b[1;33m\u001b[0m\u001b[1;33m\u001b[0m\u001b[0m\n\u001b[0m",
      "\u001b[1;31mRuntimeError\u001b[0m: Could not infer dtype of NoneType"
     ]
    }
   ],
   "source": [
    "torch.tensor(None)"
   ]
  },
  {
   "cell_type": "code",
   "execution_count": 20,
   "id": "68985c66-6623-4f55-9a52-c35a2ad52e34",
   "metadata": {},
   "outputs": [
    {
     "data": {
      "text/plain": [
       "tensor(3)"
      ]
     },
     "execution_count": 20,
     "metadata": {},
     "output_type": "execute_result"
    }
   ],
   "source": [
    "t1+t2"
   ]
  },
  {
   "cell_type": "code",
   "execution_count": 19,
   "id": "22a8a5df-28fc-4614-bd1a-79d2d0b5aef7",
   "metadata": {},
   "outputs": [
    {
     "ename": "TypeError",
     "evalue": "sum() received an invalid combination of arguments - got (Tensor, Tensor), but expected one of:\n * (Tensor input, *, torch.dtype dtype)\n * (Tensor input, tuple of ints dim, bool keepdim, *, torch.dtype dtype, Tensor out)\n * (Tensor input, tuple of names dim, bool keepdim, *, torch.dtype dtype, Tensor out)\n",
     "output_type": "error",
     "traceback": [
      "\u001b[1;31m---------------------------------------------------------------------------\u001b[0m",
      "\u001b[1;31mTypeError\u001b[0m                                 Traceback (most recent call last)",
      "\u001b[1;32m~\\AppData\\Local\\Temp/ipykernel_42560/882798467.py\u001b[0m in \u001b[0;36m<module>\u001b[1;34m\u001b[0m\n\u001b[1;32m----> 1\u001b[1;33m \u001b[0mtorch\u001b[0m\u001b[1;33m.\u001b[0m\u001b[0msum\u001b[0m\u001b[1;33m(\u001b[0m\u001b[0mt1\u001b[0m\u001b[1;33m,\u001b[0m\u001b[0mt2\u001b[0m\u001b[1;33m)\u001b[0m\u001b[1;33m\u001b[0m\u001b[1;33m\u001b[0m\u001b[0m\n\u001b[0m",
      "\u001b[1;31mTypeError\u001b[0m: sum() received an invalid combination of arguments - got (Tensor, Tensor), but expected one of:\n * (Tensor input, *, torch.dtype dtype)\n * (Tensor input, tuple of ints dim, bool keepdim, *, torch.dtype dtype, Tensor out)\n * (Tensor input, tuple of names dim, bool keepdim, *, torch.dtype dtype, Tensor out)\n"
     ]
    }
   ],
   "source": [
    "torch.sum(t1,t2)"
   ]
  },
  {
   "cell_type": "code",
   "execution_count": 16,
   "id": "4e2674d2-3903-41e3-8cb0-071000ddd217",
   "metadata": {},
   "outputs": [
    {
     "data": {
      "text/plain": [
       "tensor(2)"
      ]
     },
     "execution_count": 16,
     "metadata": {},
     "output_type": "execute_result"
    }
   ],
   "source": [
    "t2\n"
   ]
  },
  {
   "cell_type": "code",
   "execution_count": 11,
   "id": "f443d554-1844-4849-a2f3-519cd4df985d",
   "metadata": {},
   "outputs": [
    {
     "data": {
      "text/plain": [
       "array([1.8667592, 0.9380488, 0.195192 ])"
      ]
     },
     "execution_count": 11,
     "metadata": {},
     "output_type": "execute_result"
    }
   ],
   "source": [
    "weights"
   ]
  },
  {
   "cell_type": "code",
   "execution_count": 10,
   "id": "dfde096d-9981-44b7-b50a-38abc31c18e6",
   "metadata": {},
   "outputs": [
    {
     "data": {
      "text/plain": [
       "(0.1, 0.05, 0.01)"
      ]
     },
     "execution_count": 10,
     "metadata": {},
     "output_type": "execute_result"
    }
   ],
   "source": [
    "1/10, 1/20, 1/100"
   ]
  },
  {
   "cell_type": "code",
   "execution_count": null,
   "id": "7a5ab42a-8e20-412f-951c-2aa26b54d4d4",
   "metadata": {},
   "outputs": [],
   "source": [
    "weights = (1.0 - self.beta) / np.array(effective_num)\n",
    "weights = weights / np.sum(weights) * num_classes\n",
    "weights = torch.tensor(weights, device=logits.device).float()"
   ]
  },
  {
   "cell_type": "code",
   "execution_count": 6,
   "id": "df764b67-34b4-44c9-8bb0-b7a28b84e3ab",
   "metadata": {},
   "outputs": [],
   "source": [
    "# -*- coding: utf-8 -*-\n",
    "import os\n",
    "import json\n",
    "import pickle\n",
    "import copy\n",
    "from tqdm import tqdm\n",
    "import logging\n",
    "import time\n",
    "import re\n",
    "import torch\n",
    "import torch.nn as nn\n",
    "import torch.nn.functional as F\n",
    "from torch.utils.data import Dataset, DataLoader, DistributedSampler, RandomSampler, SequentialSampler\n",
    "from torch.cuda.amp import autocast\n",
    "from torch.cuda.amp import GradScaler\n",
    "import numpy as np\n",
    "from transformers import AutoTokenizer, AutoModel, AutoConfig, BertModel, RobertaModel, T5EncoderModel, get_constant_schedule_with_warmup\n",
    "import argparse\n",
    "from utils.data_utils import *\n",
    "from utils.distributed_utils import *\n",
    "from utils.utils import *\n",
    "from model import *\n",
    "from losses import *\n",
    "from sklearn.metrics import accuracy_score, f1_score\n",
    "\n",
    "def calc_loss(args, logits, labels, weights=None):\n",
    "    # label에 따른 차이가 필요함.\n",
    "    if args.n_labels != 1:\n",
    "        if args.weighted_cross_entropy:\n",
    "            loss_fn = nn.CrossEntropyLoss(weight=weights.to(labels))\n",
    "            # just for binary classification\n",
    "        elif args.focal_loss:\n",
    "            loss_fn = FocalLoss(args.gamma)\n",
    "        else:\n",
    "            loss_fn = nn.CrossEntropyLoss()\n",
    "    else:\n",
    "        loss_fn = torch.nn.BCEWithLogitsLoss()\n",
    "        logits = logits.squeeze(1)\n",
    "        labels = labels.float()\n",
    "    loss = loss_fn(logits, labels)\n",
    "    return loss\n",
    "\n",
    "# evaluation\n",
    "def evaluation(args, model, tokenizer, eval_dataloader):\n",
    "    total_loss = 0.\n",
    "    model.eval()\n",
    "    predicts = []\n",
    "    actuals = []\n",
    "    with torch.no_grad():\n",
    "        for data in tqdm(eval_dataloader, desc = 'evaluate', disable =  args.local_rank not in [-1,0]):\n",
    "            data = {i:j.cuda() for i,j in data.items()}\n",
    "            output = model.forward(**data)\n",
    "            if output.get('loss') is not None:\n",
    "                loss = calc_loss(args, output['score'], data['labels'], weights=weights)\n",
    "                total_loss+=loss\n",
    "            if args.n_labels == 1:\n",
    "                predict = (torch.sigmoid(output['score'])>=0.5).squeeze(1).long().cpu().tolist()\n",
    "            else:\n",
    "                predict = output['score'].argmax(dim=-1).cpu().tolist()\n",
    "            actual = data['labels'].cpu().tolist()\n",
    "            predicts.extend(predict)\n",
    "            actuals.extend(actual)\n",
    "    acc = accuracy_score(actuals, predicts)\n",
    "    f1 = f1_score(actuals, predicts, average='weighted')\n",
    "    cnt = len(predicts)\n",
    "    return dict(loss=total_loss/len(eval_dataloader), acc=acc, f1=f1, cnt=cnt)\n",
    "\n",
    "def get_scores(local_rank, scores, distributed:bool):\n",
    "    if distributed:\n",
    "        cnt = sum([j.item() for j in get_global(local_rank, torch.tensor([scores['cnt']]).cuda())])\n",
    "        acc = sum([j.item() for j in get_global(local_rank, torch.tensor([scores['acc']]).cuda())])\n",
    "        f1 = sum([j.item() for j in get_global(local_rank, torch.tensor([scores['f1']]).cuda())])\n",
    "        total_loss = [j.item() for j in get_global(local_rank, torch.tensor([scores['loss']]).cuda())]\n",
    "        total_loss = sum(total_loss)/len(total_loss) \n",
    "    else:\n",
    "        acc = scores['acc']\n",
    "        f1 = scores['f1']\n",
    "        total_loss = scores['loss']\n",
    "    return dict(loss=np.round(total_loss,3), acc=np.round(acc,3), f1 = np.round(f1, 3))\n",
    "\n",
    "def get_args():\n",
    "    # parser\n",
    "    parser = argparse.ArgumentParser()\n",
    "    parser.add_argument('--test_name', type=str, help = 'test_name')\n",
    "    parser.add_argument('--output_dir', type=str, help = 'output 위치')\n",
    "    # data\n",
    "    parser.add_argument('--train_data', type=str, help = 'train_data 위치')\n",
    "    parser.add_argument('--val_data', type=str, help='val data 위치')\n",
    "    parser.add_argument('--n_labels', type=int)\n",
    "    \n",
    "    # logging 관련\n",
    "    parser.add_argument('--logging_term', type=int, default = 100)\n",
    "   \n",
    "    # 학습 관련\n",
    "    parser.add_argument('--epochs', type=int, default = 20)\n",
    "    parser.add_argument('--eval_epoch', type = int, default = 1, help = 'term of evaluation')\n",
    "    parser.add_argument('--batch_size', default = 8, type=int)\n",
    "    parser.add_argument('--lr', type=float, default = 5e-5)\n",
    "    parser.add_argument('--warmup', type=float, default = 0.05)\n",
    "    parser.add_argument('--decay', type=float, default = 0.1)\n",
    "    parser.add_argument('--accumulation_steps', type=int, default = 1) # 221124 추가\n",
    "    \n",
    "    # 경량화\n",
    "    parser.add_argument('--fp16', type=str2bool, default = True)\n",
    "    \n",
    "    # imbalance\n",
    "    parser.add_argument('--weighted_sampling', type=str2bool, default = False) # 221124 추가\n",
    "    parser.add_argument('--weighted_cross_entropy', type=str2bool, default = False) # 221124 추가\n",
    "    parser.add_argument('--focal_loss', type=str2bool, default = False) # 221124 추가\n",
    "    parser.add_argument('--gamma', type=int) # 221124 추가\n",
    "    \n",
    "    # PTM model\n",
    "    parser.add_argument('--ptm_path', type=str)\n",
    "    parser.add_argument('--model_path', type=str)\n",
    "    parser.add_argument('--pool', type=str, default = 'cls')\n",
    "    \n",
    "    # model input\n",
    "    parser.add_argument('--max_length', type=int)\n",
    "    \n",
    "    # distributed 관련\n",
    "    parser.add_argument('--local_rank', type=int, default = -1)\n",
    "    parser.add_argument('--distributed', type=str2bool, default = False)\n",
    "    parser.add_argument('--early_stop', type=str2bool, default = True) # XXX220919\n",
    "    parser.add_argument('--early_stop_metric', type=str, default = 'loss') # 230619 추가\n",
    "    parser.add_argument('--early_stop_metric_is_max_better', type=str2bool, default = False) # 230619 추가\n",
    "    parser.add_argument('--patience', type=int, default = 3)\n",
    "    parser.add_argument('--save_model_every_epoch', type=str2bool, default = False) # 230619 추가\n",
    "    \n",
    "    args,_  = parser.parse_known_args()\n",
    "    return args\n",
    "\n",
    "def train():\n",
    "    \n",
    "\n",
    "def get_tokenizer_and_model(args):\n",
    "    tokenizer = AutoTokenizer.from_pretrained(args.ptm_path)\n",
    "    config = AutoConfig.from_pretrained(args.ptm_path)\n",
    "    if 'bert' in args.ptm_path:\n",
    "        model_class = BertModel\n",
    "    elif 'roberta' in args.ptm_path:\n",
    "        model_class = RobertaModel\n",
    "    elif 'ulm' in args.ptm_path:\n",
    "        model_class = T5EncoderModel\n",
    "    model = ClassificationModel(config, args.pool, model_class, args.n_labels)\n",
    "    if args.model_path is None:\n",
    "        if 'ulm' in args.ptm_path:\n",
    "            backbone_model = T5EncoderModel.from_pretrained(args.ptm_path)\n",
    "        else:\n",
    "            backbone_model = AutoModel.from_pretrained(args.ptm_path)\n",
    "        model.init_pretrained_model(backbone_model.state_dict())\n",
    "    else:\n",
    "        model_state_dict = torch.load(args.model_path, map_location='cpu')\n",
    "        model.load_state_dict(model_state_dict)\n",
    "    return tokenizer, model \n",
    "\n",
    "def load_datasets(args, tokenizer):\n",
    "    # LOAD DATASETS\n",
    "    train_data = load_jsonl(args.train_data)\n",
    "    train_dataset = ClassificationDataset(train_data, tokenizer, args.max_length)\n",
    "    if args.distributed:\n",
    "        # OK - legacy\n",
    "        val_data = load_data(args.val_data, args.local_rank, args.distributed)\n",
    "    else:\n",
    "        val_data = load_jsonl(args.val_data)\n",
    "    val_dataset = ClassificationDataset(val_data, tokenizer, args.max_length)\n",
    "    return train_dataset, val_dataset\n",
    "        \n",
    "        \n"
   ]
  },
  {
   "cell_type": "code",
   "execution_count": 14,
   "id": "6532f0d6-5363-496f-8b31-8c17da7c93f1",
   "metadata": {
    "tags": []
   },
   "outputs": [
    {
     "name": "stderr",
     "output_type": "stream",
     "text": [
      "[2023-06-20 15:15:37,380][stream][INFO] >> Namespace(test_name='log', output_dir='D:/jupyter_notebook/output/classification/nli/roberta/base', train_data='D:/jupyter_notebook/data/NLI/train.jsonl', val_data='D:/jupyter_notebook/data/NLI/dev.jsonl', n_labels=3, logging_term=1000, epochs=5, eval_epoch=10, batch_size=4, lr=0.0001, warmup=100, decay=0.1, accumulation_steps=128, fp16=True, weighted_sampling=False, weighted_cross_entropy=False, focal_loss=False, gamma=None, ptm_path='klue/roberta-base', model_path=None, pool='mean', max_length=512, local_rank=-1, distributed=False, early_stop=True, early_stop_metric='acc', early_stop_metric_is_max_better=True, patience=3, save_model_every_epoch=True)\n",
      "[2023-06-20 15:15:37,380][stream][INFO] >> Namespace(test_name='log', output_dir='D:/jupyter_notebook/output/classification/nli/roberta/base', train_data='D:/jupyter_notebook/data/NLI/train.jsonl', val_data='D:/jupyter_notebook/data/NLI/dev.jsonl', n_labels=3, logging_term=1000, epochs=5, eval_epoch=10, batch_size=4, lr=0.0001, warmup=100, decay=0.1, accumulation_steps=128, fp16=True, weighted_sampling=False, weighted_cross_entropy=False, focal_loss=False, gamma=None, ptm_path='klue/roberta-base', model_path=None, pool='mean', max_length=512, local_rank=-1, distributed=False, early_stop=True, early_stop_metric='acc', early_stop_metric_is_max_better=True, patience=3, save_model_every_epoch=True)\n",
      "[2023-06-20 15:15:37,380][stream][INFO] >> Namespace(test_name='log', output_dir='D:/jupyter_notebook/output/classification/nli/roberta/base', train_data='D:/jupyter_notebook/data/NLI/train.jsonl', val_data='D:/jupyter_notebook/data/NLI/dev.jsonl', n_labels=3, logging_term=1000, epochs=5, eval_epoch=10, batch_size=4, lr=0.0001, warmup=100, decay=0.1, accumulation_steps=128, fp16=True, weighted_sampling=False, weighted_cross_entropy=False, focal_loss=False, gamma=None, ptm_path='klue/roberta-base', model_path=None, pool='mean', max_length=512, local_rank=-1, distributed=False, early_stop=True, early_stop_metric='acc', early_stop_metric_is_max_better=True, patience=3, save_model_every_epoch=True)\n",
      "Some weights of the model checkpoint at klue/roberta-base were not used when initializing RobertaModel: ['lm_head.layer_norm.bias', 'lm_head.decoder.weight', 'lm_head.dense.bias', 'lm_head.layer_norm.weight', 'lm_head.decoder.bias', 'lm_head.dense.weight', 'lm_head.bias']\n",
      "- This IS expected if you are initializing RobertaModel from the checkpoint of a model trained on another task or with another architecture (e.g. initializing a BertForSequenceClassification model from a BertForPreTraining model).\n",
      "- This IS NOT expected if you are initializing RobertaModel from the checkpoint of a model that you expect to be exactly identical (initializing a BertForSequenceClassification model from a BertForSequenceClassification model).\n",
      "Some weights of RobertaModel were not initialized from the model checkpoint at klue/roberta-base and are newly initialized: ['roberta.pooler.dense.weight', 'roberta.pooler.dense.bias']\n",
      "You should probably TRAIN this model on a down-stream task to be able to use it for predictions and inference.\n",
      "957535it [00:03, 269601.21it/s]\n",
      "4570it [00:00, 267611.89it/s]\n"
     ]
    }
   ],
   "source": [
    "if __name__=='__main__':\n",
    "    args  = get_args()\n",
    "    args.output_dir='D:/jupyter_notebook/output/classification/nli/roberta/base'\n",
    "    args.train_data='D:/jupyter_notebook/data/NLI/train.jsonl'\n",
    "    args.val_data='D:/jupyter_notebook/data/NLI/dev.jsonl'\n",
    "    args.logging_term=1000 \n",
    "    args.epochs=5\n",
    "    args.eval_epoch=10 \n",
    "    args.batch_size=4 \n",
    "    args.warmup=100 \n",
    "    args.ptm_path='klue/roberta-base' \n",
    "    args.max_length=512 \n",
    "    args.early_stop=True \n",
    "    args.early_stop_metric='acc' \n",
    "    args.early_stop_metric_is_max_better=True \n",
    "    args.save_model_every_epoch=True \n",
    "    args.patience=3 \n",
    "    args.lr=1e-4 \n",
    "    args.fp16=True \n",
    "    args.accumulation_steps=128 \n",
    "    args.pool='mean' \n",
    "    args.n_labels=3\n",
    "    seed_everything(42)\n",
    "    os.makedirs(args.output_dir, exist_ok = True)\n",
    "    \n",
    "    logger1, logger2 = get_log(args)\n",
    "    if args.local_rank in [-1,0]:\n",
    "        logger1.info(args)\n",
    "        logger2.info(args)\n",
    "        \n",
    "    ########################################################################################\n",
    "    # tokenizer, model load\n",
    "    ########################################################################################\n",
    "    tokenizer, model = get_tokenizer_and_model(args)\n",
    "    ########################################################################################\n",
    "    \n",
    "    ########################################################################################\n",
    "    # distributed 관련\n",
    "    ########################################################################################\n",
    "    if args.distributed:\n",
    "        assert torch.cuda.is_available()\n",
    "        assert torch.cuda.device_count()>1\n",
    "        # 이 프로세스가 어느 gpu에 할당되는지 명시\n",
    "        torch.cuda.set_device(args.local_rank)\n",
    "        # 통신을 위한 초기화\n",
    "        torch.distributed.init_process_group(backend='nccl', init_method='env://')\n",
    "        model.cuda()\n",
    "        model = torch.nn.parallel.DistributedDataParallel(model, device_ids=[args.local_rank],output_device = args.local_rank)\n",
    "    else:\n",
    "        model.cuda()\n",
    "    ########################################################################################\n",
    "    \n",
    "    ########################################################################################\n",
    "    # data\n",
    "    ########################################################################################\n",
    "    train_dataset, val_dataset = load_datasets(args, tokenizer)\n",
    "    \n",
    "    # binary weight\n",
    "    weights = None\n",
    "    if args.weighted_cross_entropy:\n",
    "        labels = [i['label'] for i in train_dataset]\n",
    "        weights = torch.tensor([1/labels.count(0), 1/labels.count(1)])\n",
    "    args.weights = weights\n",
    "    # save\n",
    "    if args.local_rank in [-1,0]:\n",
    "        with open(os.path.join(args.output_dir,'args.txt'), 'w') as f:\n",
    "            json.dump(args.__dict__, f, indent=2)\n",
    "    # weighted_sampling & distributed\n",
    "    if args.weighted_sampling:\n",
    "        if args.distributed:\n",
    "            train_sampler = DistributedWeightedRandomSampler(train_dataset, replacement=True)\n",
    "        else:\n",
    "            n_class = Counter([i['label'] for i in train_dataset]) \n",
    "            class_weight = {i:1/j for i,j in n_class.items()}\n",
    "            weight =  torch.DoubleTensor([class_weight[i['label']] for i in train_dataset])\n",
    "            train_sampler = WeightedRandomSampler(weight, len(train_dataset), replacement=True)\n",
    "    else:\n",
    "        if args.distributed:\n",
    "            train_sampler = DistributedSampler(train_dataset) \n",
    "        else:\n",
    "            train_sampler = RandomSampler(train_dataset)\n",
    "   \n",
    "    train_dataloader = DataLoader(train_dataset,batch_size = args.batch_size, sampler = train_sampler, collate_fn = train_dataset.collate_fn)\n",
    "    val_sampler = SequentialSampler(val_dataset)\n",
    "    val_dataloader = DataLoader(val_dataset,batch_size = args.batch_size, sampler = val_sampler, collate_fn = val_dataset.collate_fn)\n",
    "    ########################################################################################\n",
    "    \n",
    "    ########################################################################################\n",
    "    # train\n",
    "    ########################################################################################\n",
    "    #train()\n",
    "    ########################################################################################\n"
   ]
  },
  {
   "cell_type": "code",
   "execution_count": 15,
   "id": "5e31efc0-ee95-4a82-875b-dffc47c7f1a1",
   "metadata": {},
   "outputs": [],
   "source": [
    "# optimizer\n",
    "optimizer_grouped_parameters = make_optimizer_group(model, args.decay)\n",
    "optimizer = torch.optim.AdamW(optimizer_grouped_parameters, lr=args.lr, weight_decay=args.decay)\n",
    "# scheduler\n",
    "t_total = len(train_dataloader)*args.epochs//args.accumulation_steps\n",
    "n_warmup = int(t_total*args.warmup) if args.warmup<1 else int(args.warmup)\n",
    "scheduler = get_constant_schedule_with_warmup(optimizer, num_warmup_steps=n_warmup)\n",
    "if args.local_rank in [-1,0]:\n",
    "    early_stop = EarlyStopping(args.patience, args.output_dir, max = args.early_stop_metric_is_max_better, min_difference=1e-5)\n",
    "if args.fp16:\n",
    "    scaler = GradScaler()\n",
    "flag_tensor = torch.zeros(1).cuda()\n",
    "########################################################################################\n",
    "# train\n",
    "########################################################################################\n"
   ]
  },
  {
   "cell_type": "code",
   "execution_count": 16,
   "id": "c1c1e0ba-3bf2-4df2-a078-b1c78d74f816",
   "metadata": {},
   "outputs": [
    {
     "name": "stderr",
     "output_type": "stream",
     "text": [
      "step: 100%|██████████████████████████████████████████████████████████████████| 239384/239384 [01:57<00:00, 2042.38it/s]\n",
      "step:   5%|███▍                                                               | 12253/239384 [00:05<01:50, 2059.15it/s]\n"
     ]
    },
    {
     "ename": "KeyboardInterrupt",
     "evalue": "",
     "output_type": "error",
     "traceback": [
      "\u001b[1;31m---------------------------------------------------------------------------\u001b[0m",
      "\u001b[1;31mKeyboardInterrupt\u001b[0m                         Traceback (most recent call last)",
      "\u001b[1;32m~\\AppData\\Local\\Temp/ipykernel_39052/2148726945.py\u001b[0m in \u001b[0;36m<module>\u001b[1;34m\u001b[0m\n\u001b[0;32m     10\u001b[0m     \u001b[0miter_bar\u001b[0m \u001b[1;33m=\u001b[0m \u001b[0mtqdm\u001b[0m\u001b[1;33m(\u001b[0m\u001b[0mtrain_dataloader\u001b[0m\u001b[1;33m,\u001b[0m \u001b[0mdesc\u001b[0m\u001b[1;33m=\u001b[0m\u001b[1;34m'step'\u001b[0m\u001b[1;33m,\u001b[0m \u001b[0mdisable\u001b[0m\u001b[1;33m=\u001b[0m\u001b[0margs\u001b[0m\u001b[1;33m.\u001b[0m\u001b[0mlocal_rank\u001b[0m \u001b[1;32mnot\u001b[0m \u001b[1;32min\u001b[0m \u001b[1;33m[\u001b[0m\u001b[1;33m-\u001b[0m\u001b[1;36m1\u001b[0m\u001b[1;33m,\u001b[0m\u001b[1;36m0\u001b[0m\u001b[1;33m]\u001b[0m\u001b[1;33m)\u001b[0m\u001b[1;33m\u001b[0m\u001b[1;33m\u001b[0m\u001b[0m\n\u001b[0;32m     11\u001b[0m     \u001b[1;31m#train\u001b[0m\u001b[1;33m\u001b[0m\u001b[1;33m\u001b[0m\u001b[0m\n\u001b[1;32m---> 12\u001b[1;33m     \u001b[1;32mfor\u001b[0m \u001b[0mdata\u001b[0m \u001b[1;32min\u001b[0m \u001b[0miter_bar\u001b[0m\u001b[1;33m:\u001b[0m\u001b[1;33m\u001b[0m\u001b[1;33m\u001b[0m\u001b[0m\n\u001b[0m\u001b[0;32m     13\u001b[0m         \u001b[0mstep\u001b[0m\u001b[1;33m+=\u001b[0m\u001b[1;36m1\u001b[0m\u001b[1;33m\u001b[0m\u001b[1;33m\u001b[0m\u001b[0m\n\u001b[0;32m     14\u001b[0m         \u001b[1;32mif\u001b[0m \u001b[0margs\u001b[0m\u001b[1;33m.\u001b[0m\u001b[0mfp16\u001b[0m\u001b[1;33m:\u001b[0m\u001b[1;33m\u001b[0m\u001b[1;33m\u001b[0m\u001b[0m\n",
      "\u001b[1;32mD:\\anaconda3\\lib\\site-packages\\tqdm\\std.py\u001b[0m in \u001b[0;36m__iter__\u001b[1;34m(self)\u001b[0m\n\u001b[0;32m   1178\u001b[0m \u001b[1;33m\u001b[0m\u001b[0m\n\u001b[0;32m   1179\u001b[0m         \u001b[1;32mtry\u001b[0m\u001b[1;33m:\u001b[0m\u001b[1;33m\u001b[0m\u001b[1;33m\u001b[0m\u001b[0m\n\u001b[1;32m-> 1180\u001b[1;33m             \u001b[1;32mfor\u001b[0m \u001b[0mobj\u001b[0m \u001b[1;32min\u001b[0m \u001b[0miterable\u001b[0m\u001b[1;33m:\u001b[0m\u001b[1;33m\u001b[0m\u001b[1;33m\u001b[0m\u001b[0m\n\u001b[0m\u001b[0;32m   1181\u001b[0m                 \u001b[1;32myield\u001b[0m \u001b[0mobj\u001b[0m\u001b[1;33m\u001b[0m\u001b[1;33m\u001b[0m\u001b[0m\n\u001b[0;32m   1182\u001b[0m                 \u001b[1;31m# Update and possibly print the progressbar.\u001b[0m\u001b[1;33m\u001b[0m\u001b[1;33m\u001b[0m\u001b[0m\n",
      "\u001b[1;32mD:\\anaconda3\\lib\\site-packages\\torch\\utils\\data\\dataloader.py\u001b[0m in \u001b[0;36m__next__\u001b[1;34m(self)\u001b[0m\n\u001b[0;32m    528\u001b[0m             \u001b[1;32mif\u001b[0m \u001b[0mself\u001b[0m\u001b[1;33m.\u001b[0m\u001b[0m_sampler_iter\u001b[0m \u001b[1;32mis\u001b[0m \u001b[1;32mNone\u001b[0m\u001b[1;33m:\u001b[0m\u001b[1;33m\u001b[0m\u001b[1;33m\u001b[0m\u001b[0m\n\u001b[0;32m    529\u001b[0m                 \u001b[0mself\u001b[0m\u001b[1;33m.\u001b[0m\u001b[0m_reset\u001b[0m\u001b[1;33m(\u001b[0m\u001b[1;33m)\u001b[0m\u001b[1;33m\u001b[0m\u001b[1;33m\u001b[0m\u001b[0m\n\u001b[1;32m--> 530\u001b[1;33m             \u001b[0mdata\u001b[0m \u001b[1;33m=\u001b[0m \u001b[0mself\u001b[0m\u001b[1;33m.\u001b[0m\u001b[0m_next_data\u001b[0m\u001b[1;33m(\u001b[0m\u001b[1;33m)\u001b[0m\u001b[1;33m\u001b[0m\u001b[1;33m\u001b[0m\u001b[0m\n\u001b[0m\u001b[0;32m    531\u001b[0m             \u001b[0mself\u001b[0m\u001b[1;33m.\u001b[0m\u001b[0m_num_yielded\u001b[0m \u001b[1;33m+=\u001b[0m \u001b[1;36m1\u001b[0m\u001b[1;33m\u001b[0m\u001b[1;33m\u001b[0m\u001b[0m\n\u001b[0;32m    532\u001b[0m             \u001b[1;32mif\u001b[0m \u001b[0mself\u001b[0m\u001b[1;33m.\u001b[0m\u001b[0m_dataset_kind\u001b[0m \u001b[1;33m==\u001b[0m \u001b[0m_DatasetKind\u001b[0m\u001b[1;33m.\u001b[0m\u001b[0mIterable\u001b[0m \u001b[1;32mand\u001b[0m\u001b[0;31m \u001b[0m\u001b[0;31m\\\u001b[0m\u001b[1;33m\u001b[0m\u001b[1;33m\u001b[0m\u001b[0m\n",
      "\u001b[1;32mD:\\anaconda3\\lib\\site-packages\\torch\\utils\\data\\dataloader.py\u001b[0m in \u001b[0;36m_next_data\u001b[1;34m(self)\u001b[0m\n\u001b[0;32m    568\u001b[0m     \u001b[1;32mdef\u001b[0m \u001b[0m_next_data\u001b[0m\u001b[1;33m(\u001b[0m\u001b[0mself\u001b[0m\u001b[1;33m)\u001b[0m\u001b[1;33m:\u001b[0m\u001b[1;33m\u001b[0m\u001b[1;33m\u001b[0m\u001b[0m\n\u001b[0;32m    569\u001b[0m         \u001b[0mindex\u001b[0m \u001b[1;33m=\u001b[0m \u001b[0mself\u001b[0m\u001b[1;33m.\u001b[0m\u001b[0m_next_index\u001b[0m\u001b[1;33m(\u001b[0m\u001b[1;33m)\u001b[0m  \u001b[1;31m# may raise StopIteration\u001b[0m\u001b[1;33m\u001b[0m\u001b[1;33m\u001b[0m\u001b[0m\n\u001b[1;32m--> 570\u001b[1;33m         \u001b[0mdata\u001b[0m \u001b[1;33m=\u001b[0m \u001b[0mself\u001b[0m\u001b[1;33m.\u001b[0m\u001b[0m_dataset_fetcher\u001b[0m\u001b[1;33m.\u001b[0m\u001b[0mfetch\u001b[0m\u001b[1;33m(\u001b[0m\u001b[0mindex\u001b[0m\u001b[1;33m)\u001b[0m  \u001b[1;31m# may raise StopIteration\u001b[0m\u001b[1;33m\u001b[0m\u001b[1;33m\u001b[0m\u001b[0m\n\u001b[0m\u001b[0;32m    571\u001b[0m         \u001b[1;32mif\u001b[0m \u001b[0mself\u001b[0m\u001b[1;33m.\u001b[0m\u001b[0m_pin_memory\u001b[0m\u001b[1;33m:\u001b[0m\u001b[1;33m\u001b[0m\u001b[1;33m\u001b[0m\u001b[0m\n\u001b[0;32m    572\u001b[0m             \u001b[0mdata\u001b[0m \u001b[1;33m=\u001b[0m \u001b[0m_utils\u001b[0m\u001b[1;33m.\u001b[0m\u001b[0mpin_memory\u001b[0m\u001b[1;33m.\u001b[0m\u001b[0mpin_memory\u001b[0m\u001b[1;33m(\u001b[0m\u001b[0mdata\u001b[0m\u001b[1;33m)\u001b[0m\u001b[1;33m\u001b[0m\u001b[1;33m\u001b[0m\u001b[0m\n",
      "\u001b[1;32mD:\\anaconda3\\lib\\site-packages\\torch\\utils\\data\\_utils\\fetch.py\u001b[0m in \u001b[0;36mfetch\u001b[1;34m(self, possibly_batched_index)\u001b[0m\n\u001b[0;32m     50\u001b[0m         \u001b[1;32melse\u001b[0m\u001b[1;33m:\u001b[0m\u001b[1;33m\u001b[0m\u001b[1;33m\u001b[0m\u001b[0m\n\u001b[0;32m     51\u001b[0m             \u001b[0mdata\u001b[0m \u001b[1;33m=\u001b[0m \u001b[0mself\u001b[0m\u001b[1;33m.\u001b[0m\u001b[0mdataset\u001b[0m\u001b[1;33m[\u001b[0m\u001b[0mpossibly_batched_index\u001b[0m\u001b[1;33m]\u001b[0m\u001b[1;33m\u001b[0m\u001b[1;33m\u001b[0m\u001b[0m\n\u001b[1;32m---> 52\u001b[1;33m         \u001b[1;32mreturn\u001b[0m \u001b[0mself\u001b[0m\u001b[1;33m.\u001b[0m\u001b[0mcollate_fn\u001b[0m\u001b[1;33m(\u001b[0m\u001b[0mdata\u001b[0m\u001b[1;33m)\u001b[0m\u001b[1;33m\u001b[0m\u001b[1;33m\u001b[0m\u001b[0m\n\u001b[0m",
      "\u001b[1;32mD:\\jupyter_notebook\\Classification\\utils\\data_utils.py\u001b[0m in \u001b[0;36mcollate_fn\u001b[1;34m(self, batch)\u001b[0m\n\u001b[0;32m     35\u001b[0m             \u001b[0minputs\u001b[0m \u001b[1;33m=\u001b[0m \u001b[0mself\u001b[0m\u001b[1;33m.\u001b[0m\u001b[0mtokenizer\u001b[0m\u001b[1;33m(\u001b[0m\u001b[0minputs\u001b[0m\u001b[1;33m,\u001b[0m \u001b[0mpadding\u001b[0m\u001b[1;33m=\u001b[0m\u001b[1;34m'longest'\u001b[0m\u001b[1;33m,\u001b[0m\u001b[0mreturn_tensors\u001b[0m \u001b[1;33m=\u001b[0m \u001b[1;34m'pt'\u001b[0m\u001b[1;33m)\u001b[0m\u001b[1;33m\u001b[0m\u001b[1;33m\u001b[0m\u001b[0m\n\u001b[0;32m     36\u001b[0m         \u001b[1;32melse\u001b[0m\u001b[1;33m:\u001b[0m\u001b[1;33m\u001b[0m\u001b[1;33m\u001b[0m\u001b[0m\n\u001b[1;32m---> 37\u001b[1;33m             \u001b[0minputs\u001b[0m \u001b[1;33m=\u001b[0m \u001b[0mself\u001b[0m\u001b[1;33m.\u001b[0m\u001b[0mtokenizer\u001b[0m\u001b[1;33m(\u001b[0m\u001b[0minputs\u001b[0m\u001b[1;33m,\u001b[0m \u001b[0mpadding\u001b[0m\u001b[1;33m=\u001b[0m\u001b[1;32mTrue\u001b[0m\u001b[1;33m,\u001b[0m \u001b[0mtruncation\u001b[0m\u001b[1;33m=\u001b[0m\u001b[1;32mTrue\u001b[0m\u001b[1;33m,\u001b[0m \u001b[0mmax_length\u001b[0m\u001b[1;33m=\u001b[0m\u001b[0mself\u001b[0m\u001b[1;33m.\u001b[0m\u001b[0mmax_length\u001b[0m\u001b[1;33m,\u001b[0m \u001b[0mreturn_tensors\u001b[0m \u001b[1;33m=\u001b[0m \u001b[1;34m'pt'\u001b[0m\u001b[1;33m)\u001b[0m\u001b[1;33m\u001b[0m\u001b[1;33m\u001b[0m\u001b[0m\n\u001b[0m\u001b[0;32m     38\u001b[0m         \u001b[1;32mif\u001b[0m \u001b[0mlabels\u001b[0m\u001b[1;33m:\u001b[0m\u001b[1;33m\u001b[0m\u001b[1;33m\u001b[0m\u001b[0m\n\u001b[0;32m     39\u001b[0m             \u001b[0minputs\u001b[0m\u001b[1;33m.\u001b[0m\u001b[0mdata\u001b[0m\u001b[1;33m[\u001b[0m\u001b[1;34m'labels'\u001b[0m\u001b[1;33m]\u001b[0m\u001b[1;33m=\u001b[0m\u001b[0mtorch\u001b[0m\u001b[1;33m.\u001b[0m\u001b[0mtensor\u001b[0m\u001b[1;33m(\u001b[0m\u001b[0mlabels\u001b[0m\u001b[1;33m)\u001b[0m\u001b[1;33m\u001b[0m\u001b[1;33m\u001b[0m\u001b[0m\n",
      "\u001b[1;32mD:\\anaconda3\\lib\\site-packages\\transformers\\tokenization_utils_base.py\u001b[0m in \u001b[0;36m__call__\u001b[1;34m(self, text, text_pair, text_target, text_pair_target, add_special_tokens, padding, truncation, max_length, stride, is_split_into_words, pad_to_multiple_of, return_tensors, return_token_type_ids, return_attention_mask, return_overflowing_tokens, return_special_tokens_mask, return_offsets_mapping, return_length, verbose, **kwargs)\u001b[0m\n\u001b[0;32m   2528\u001b[0m             \u001b[1;32mif\u001b[0m \u001b[1;32mnot\u001b[0m \u001b[0mself\u001b[0m\u001b[1;33m.\u001b[0m\u001b[0m_in_target_context_manager\u001b[0m\u001b[1;33m:\u001b[0m\u001b[1;33m\u001b[0m\u001b[1;33m\u001b[0m\u001b[0m\n\u001b[0;32m   2529\u001b[0m                 \u001b[0mself\u001b[0m\u001b[1;33m.\u001b[0m\u001b[0m_switch_to_input_mode\u001b[0m\u001b[1;33m(\u001b[0m\u001b[1;33m)\u001b[0m\u001b[1;33m\u001b[0m\u001b[1;33m\u001b[0m\u001b[0m\n\u001b[1;32m-> 2530\u001b[1;33m             \u001b[0mencodings\u001b[0m \u001b[1;33m=\u001b[0m \u001b[0mself\u001b[0m\u001b[1;33m.\u001b[0m\u001b[0m_call_one\u001b[0m\u001b[1;33m(\u001b[0m\u001b[0mtext\u001b[0m\u001b[1;33m=\u001b[0m\u001b[0mtext\u001b[0m\u001b[1;33m,\u001b[0m \u001b[0mtext_pair\u001b[0m\u001b[1;33m=\u001b[0m\u001b[0mtext_pair\u001b[0m\u001b[1;33m,\u001b[0m \u001b[1;33m**\u001b[0m\u001b[0mall_kwargs\u001b[0m\u001b[1;33m)\u001b[0m\u001b[1;33m\u001b[0m\u001b[1;33m\u001b[0m\u001b[0m\n\u001b[0m\u001b[0;32m   2531\u001b[0m         \u001b[1;32mif\u001b[0m \u001b[0mtext_target\u001b[0m \u001b[1;32mis\u001b[0m \u001b[1;32mnot\u001b[0m \u001b[1;32mNone\u001b[0m\u001b[1;33m:\u001b[0m\u001b[1;33m\u001b[0m\u001b[1;33m\u001b[0m\u001b[0m\n\u001b[0;32m   2532\u001b[0m             \u001b[0mself\u001b[0m\u001b[1;33m.\u001b[0m\u001b[0m_switch_to_target_mode\u001b[0m\u001b[1;33m(\u001b[0m\u001b[1;33m)\u001b[0m\u001b[1;33m\u001b[0m\u001b[1;33m\u001b[0m\u001b[0m\n",
      "\u001b[1;32mD:\\anaconda3\\lib\\site-packages\\transformers\\tokenization_utils_base.py\u001b[0m in \u001b[0;36m_call_one\u001b[1;34m(self, text, text_pair, add_special_tokens, padding, truncation, max_length, stride, is_split_into_words, pad_to_multiple_of, return_tensors, return_token_type_ids, return_attention_mask, return_overflowing_tokens, return_special_tokens_mask, return_offsets_mapping, return_length, verbose, **kwargs)\u001b[0m\n\u001b[0;32m   2614\u001b[0m                 )\n\u001b[0;32m   2615\u001b[0m             \u001b[0mbatch_text_or_text_pairs\u001b[0m \u001b[1;33m=\u001b[0m \u001b[0mlist\u001b[0m\u001b[1;33m(\u001b[0m\u001b[0mzip\u001b[0m\u001b[1;33m(\u001b[0m\u001b[0mtext\u001b[0m\u001b[1;33m,\u001b[0m \u001b[0mtext_pair\u001b[0m\u001b[1;33m)\u001b[0m\u001b[1;33m)\u001b[0m \u001b[1;32mif\u001b[0m \u001b[0mtext_pair\u001b[0m \u001b[1;32mis\u001b[0m \u001b[1;32mnot\u001b[0m \u001b[1;32mNone\u001b[0m \u001b[1;32melse\u001b[0m \u001b[0mtext\u001b[0m\u001b[1;33m\u001b[0m\u001b[1;33m\u001b[0m\u001b[0m\n\u001b[1;32m-> 2616\u001b[1;33m             return self.batch_encode_plus(\n\u001b[0m\u001b[0;32m   2617\u001b[0m                 \u001b[0mbatch_text_or_text_pairs\u001b[0m\u001b[1;33m=\u001b[0m\u001b[0mbatch_text_or_text_pairs\u001b[0m\u001b[1;33m,\u001b[0m\u001b[1;33m\u001b[0m\u001b[1;33m\u001b[0m\u001b[0m\n\u001b[0;32m   2618\u001b[0m                 \u001b[0madd_special_tokens\u001b[0m\u001b[1;33m=\u001b[0m\u001b[0madd_special_tokens\u001b[0m\u001b[1;33m,\u001b[0m\u001b[1;33m\u001b[0m\u001b[1;33m\u001b[0m\u001b[0m\n",
      "\u001b[1;32mD:\\anaconda3\\lib\\site-packages\\transformers\\tokenization_utils_base.py\u001b[0m in \u001b[0;36mbatch_encode_plus\u001b[1;34m(self, batch_text_or_text_pairs, add_special_tokens, padding, truncation, max_length, stride, is_split_into_words, pad_to_multiple_of, return_tensors, return_token_type_ids, return_attention_mask, return_overflowing_tokens, return_special_tokens_mask, return_offsets_mapping, return_length, verbose, **kwargs)\u001b[0m\n\u001b[0;32m   2805\u001b[0m         )\n\u001b[0;32m   2806\u001b[0m \u001b[1;33m\u001b[0m\u001b[0m\n\u001b[1;32m-> 2807\u001b[1;33m         return self._batch_encode_plus(\n\u001b[0m\u001b[0;32m   2808\u001b[0m             \u001b[0mbatch_text_or_text_pairs\u001b[0m\u001b[1;33m=\u001b[0m\u001b[0mbatch_text_or_text_pairs\u001b[0m\u001b[1;33m,\u001b[0m\u001b[1;33m\u001b[0m\u001b[1;33m\u001b[0m\u001b[0m\n\u001b[0;32m   2809\u001b[0m             \u001b[0madd_special_tokens\u001b[0m\u001b[1;33m=\u001b[0m\u001b[0madd_special_tokens\u001b[0m\u001b[1;33m,\u001b[0m\u001b[1;33m\u001b[0m\u001b[1;33m\u001b[0m\u001b[0m\n",
      "\u001b[1;32mD:\\anaconda3\\lib\\site-packages\\transformers\\tokenization_utils_fast.py\u001b[0m in \u001b[0;36m_batch_encode_plus\u001b[1;34m(self, batch_text_or_text_pairs, add_special_tokens, padding_strategy, truncation_strategy, max_length, stride, is_split_into_words, pad_to_multiple_of, return_tensors, return_token_type_ids, return_attention_mask, return_overflowing_tokens, return_special_tokens_mask, return_offsets_mapping, return_length, verbose)\u001b[0m\n\u001b[0;32m    426\u001b[0m         )\n\u001b[0;32m    427\u001b[0m \u001b[1;33m\u001b[0m\u001b[0m\n\u001b[1;32m--> 428\u001b[1;33m         encodings = self._tokenizer.encode_batch(\n\u001b[0m\u001b[0;32m    429\u001b[0m             \u001b[0mbatch_text_or_text_pairs\u001b[0m\u001b[1;33m,\u001b[0m\u001b[1;33m\u001b[0m\u001b[1;33m\u001b[0m\u001b[0m\n\u001b[0;32m    430\u001b[0m             \u001b[0madd_special_tokens\u001b[0m\u001b[1;33m=\u001b[0m\u001b[0madd_special_tokens\u001b[0m\u001b[1;33m,\u001b[0m\u001b[1;33m\u001b[0m\u001b[1;33m\u001b[0m\u001b[0m\n",
      "\u001b[1;31mKeyboardInterrupt\u001b[0m: "
     ]
    }
   ],
   "source": [
    "global_step = 0\n",
    "train_plot = []\n",
    "val_plot = []\n",
    "for epoch in range(1, args.epochs+1):\n",
    "    if args.distributed:\n",
    "        train_sampler.set_epoch(epoch)\n",
    "    model.train()\n",
    "    Loss = 0.\n",
    "    step = 0\n",
    "    iter_bar = tqdm(train_dataloader, desc='step', disable=args.local_rank not in [-1,0])\n",
    "    #train\n",
    "    for data in iter_bar:\n",
    "        step+=1\n",
    "        if args.fp16:\n",
    "            with autocast():\n",
    "                if step%args.accumulation_steps==0 or (\n",
    "                len(train_dataloader) <= args.accumulation_steps\n",
    "                and (step) == len(train_dataloader)\n",
    "        ):\n",
    "                    scheduler.step()\n",
    "                    train_plot.append(scheduler.get_last_lr()[0])\n"
   ]
  },
  {
   "cell_type": "code",
   "execution_count": 23,
   "id": "d5dd569c-195c-467e-868d-b71057b504a9",
   "metadata": {},
   "outputs": [
    {
     "data": {
      "text/plain": [
       "0.0001"
      ]
     },
     "execution_count": 23,
     "metadata": {},
     "output_type": "execute_result"
    }
   ],
   "source": [
    "optimizer.param_groups[0]['lr']"
   ]
  },
  {
   "cell_type": "code",
   "execution_count": 17,
   "id": "f2ea4ecd-4beb-4c10-a23b-cdf5951c78db",
   "metadata": {},
   "outputs": [],
   "source": [
    "from matplotlib import pyplot as plt"
   ]
  },
  {
   "cell_type": "code",
   "execution_count": 18,
   "id": "a2006ebb-17be-4696-8336-f3dfc91c97d9",
   "metadata": {},
   "outputs": [
    {
     "data": {
      "text/plain": [
       "[<matplotlib.lines.Line2D at 0x1cbab797640>]"
      ]
     },
     "execution_count": 18,
     "metadata": {},
     "output_type": "execute_result"
    },
    {
     "data": {
      "image/png": "[encoded data removed]",
      "text/plain": [
       "<Figure size 432x288 with 1 Axes>"
      ]
     },
     "metadata": {
      "needs_background": "light"
     },
     "output_type": "display_data"
    }
   ],
   "source": [
    "plt.plot(train_plot)"
   ]
  }
 ],
 "metadata": {
  "kernelspec": {
   "display_name": "Python 3 (ipykernel)",
   "language": "python",
   "name": "python3"
  },
  "language_info": {
   "codemirror_mode": {
    "name": "ipython",
    "version": 3
   },
   "file_extension": ".py",
   "mimetype": "text/x-python",
   "name": "python",
   "nbconvert_exporter": "python",
   "pygments_lexer": "ipython3",
   "version": "3.9.7"
  }
 },
 "nbformat": 4,
 "nbformat_minor": 5
}
